{
 "cells": [
  {
   "cell_type": "code",
   "execution_count": 1,
   "id": "valuable-holiday",
   "metadata": {},
   "outputs": [],
   "source": [
    "import torch\n",
    "import torch.nn as nn\n",
    "import torch.nn.functional as F\n",
    "\n",
    "class Network(nn.Module):\n",
    "    def __init__(self, output_num: int = 4):\n",
    "        super(Network, self).__init__()\n",
    "        self.stack = nn.Sequential(\n",
    "            nn.Conv2d(1, 32, kernel_size=1, padding=1, stride=1),\n",
    "            nn.BatchNorm2d(32),\n",
    "            nn.ReLU()\n",
    "        )\n",
    "    \n",
    "    def forward(self, x: torch.Tensor) -> torch.Tensor:\n",
    "        return self.stack()"
   ]
  },
  {
   "cell_type": "code",
   "execution_count": 2,
   "id": "comparative-greek",
   "metadata": {},
   "outputs": [
    {
     "name": "stdout",
     "output_type": "stream",
     "text": [
      "Network(\n",
      "  (stack): Sequential(\n",
      "    (0): Conv2d(1, 32, kernel_size=(1, 1), stride=(1, 1), padding=(1, 1))\n",
      "    (1): BatchNorm2d(32, eps=1e-05, momentum=0.1, affine=True, track_running_stats=True)\n",
      "    (2): ReLU()\n",
      "  )\n",
      ")\n"
     ]
    }
   ],
   "source": [
    "model = Network()\n",
    "print(model)"
   ]
  },
  {
   "cell_type": "code",
   "execution_count": 4,
   "id": "ethical-adams",
   "metadata": {},
   "outputs": [
    {
     "data": {
      "text/plain": [
       "' abcdefghijklmnopqrstuvwxyzABCDEFGHIJKLMNOPQRSTUVWXYZ0123456789.,*&!@~():`^]¢‘;|-«'"
      ]
     },
     "execution_count": 4,
     "metadata": {},
     "output_type": "execute_result"
    }
   ],
   "source": [
    "import string\n",
    "\n",
    "symbols = \" \"+string.ascii_lowercase + string.ascii_uppercase+\"0123456789.,*&!@~():`^]¢‘;|-«\"\n",
    "symbols"
   ]
  },
  {
   "cell_type": "code",
   "execution_count": 5,
   "id": "municipal-belle",
   "metadata": {},
   "outputs": [],
   "source": [
    "import os\n",
    "import matplotlib.pyplot as plt\n",
    "import matplotlib.image as mpimg\n",
    "import pandas as pd\n",
    "\n",
    "labels = os.listdir(\"data/train/\")\n",
    "labels = [x[:-4] for x in labels]\n",
    "labels = pd.Series(labels, name=\"Labels\")"
   ]
  },
  {
   "cell_type": "code",
   "execution_count": 6,
   "id": "formal-transportation",
   "metadata": {},
   "outputs": [],
   "source": [
    "images = [mpimg.imread(\"data/train/\" + x) for x in os.listdir(\"data/train/\")]\n",
    "images = pd.Series(images, name=\"Images\")"
   ]
  },
  {
   "cell_type": "code",
   "execution_count": 7,
   "id": "earlier-generation",
   "metadata": {},
   "outputs": [
    {
     "data": {
      "text/html": [
       "<div>\n",
       "<style scoped>\n",
       "    .dataframe tbody tr th:only-of-type {\n",
       "        vertical-align: middle;\n",
       "    }\n",
       "\n",
       "    .dataframe tbody tr th {\n",
       "        vertical-align: top;\n",
       "    }\n",
       "\n",
       "    .dataframe thead th {\n",
       "        text-align: right;\n",
       "    }\n",
       "</style>\n",
       "<table border=\"1\" class=\"dataframe\">\n",
       "  <thead>\n",
       "    <tr style=\"text-align: right;\">\n",
       "      <th></th>\n",
       "      <th>Images</th>\n",
       "      <th>Labels</th>\n",
       "    </tr>\n",
       "  </thead>\n",
       "  <tbody>\n",
       "    <tr>\n",
       "      <th>0</th>\n",
       "      <td>[[[0.7529412, 0.7529412, 0.7529412, 1.0], [0.7...</td>\n",
       "      <td>p5g5m</td>\n",
       "    </tr>\n",
       "    <tr>\n",
       "      <th>1</th>\n",
       "      <td>[[[0.7529412, 0.7529412, 0.7529412, 1.0], [0.7...</td>\n",
       "      <td>e72cd</td>\n",
       "    </tr>\n",
       "    <tr>\n",
       "      <th>2</th>\n",
       "      <td>[[[0.7529412, 0.7529412, 0.7529412, 1.0], [0.7...</td>\n",
       "      <td>pgmn2</td>\n",
       "    </tr>\n",
       "    <tr>\n",
       "      <th>3</th>\n",
       "      <td>[[[0.7529412, 0.7529412, 0.7529412, 1.0], [0.7...</td>\n",
       "      <td>6cm6m</td>\n",
       "    </tr>\n",
       "    <tr>\n",
       "      <th>4</th>\n",
       "      <td>[[[0.7529412, 0.7529412, 0.7529412, 1.0], [0.7...</td>\n",
       "      <td>68wfd</td>\n",
       "    </tr>\n",
       "  </tbody>\n",
       "</table>\n",
       "</div>"
      ],
      "text/plain": [
       "                                              Images Labels\n",
       "0  [[[0.7529412, 0.7529412, 0.7529412, 1.0], [0.7...  p5g5m\n",
       "1  [[[0.7529412, 0.7529412, 0.7529412, 1.0], [0.7...  e72cd\n",
       "2  [[[0.7529412, 0.7529412, 0.7529412, 1.0], [0.7...  pgmn2\n",
       "3  [[[0.7529412, 0.7529412, 0.7529412, 1.0], [0.7...  6cm6m\n",
       "4  [[[0.7529412, 0.7529412, 0.7529412, 1.0], [0.7...  68wfd"
      ]
     },
     "execution_count": 7,
     "metadata": {},
     "output_type": "execute_result"
    }
   ],
   "source": [
    "df = pd.concat([images, labels], axis=1)\n",
    "df.head()"
   ]
  },
  {
   "cell_type": "code",
   "execution_count": 8,
   "id": "specified-knowing",
   "metadata": {},
   "outputs": [
    {
     "data": {
      "text/plain": [
       "175    [[[0.7529412, 0.7529412, 0.7529412, 1.0], [0.7...\n",
       "321    [[[0.7529412, 0.7529412, 0.7529412, 1.0], [0.7...\n",
       "10     [[[0.7529412, 0.7529412, 0.7529412, 1.0], [0.7...\n",
       "251    [[[0.7529412, 0.7529412, 0.7529412, 1.0], [0.7...\n",
       "98     [[[0.7529412, 0.7529412, 0.7529412, 1.0], [0.7...\n",
       "Name: Images, dtype: object"
      ]
     },
     "execution_count": 8,
     "metadata": {},
     "output_type": "execute_result"
    }
   ],
   "source": [
    "from sklearn.model_selection import train_test_split\n",
    "\n",
    "X_train, X_test, y_train, y_test = train_test_split(df[\"Images\"], df[\"Labels\"])\n",
    "\n",
    "X_train.head()"
   ]
  },
  {
   "cell_type": "code",
   "execution_count": 14,
   "id": "square-harbor",
   "metadata": {},
   "outputs": [
    {
     "ename": "AttributeError",
     "evalue": "module 'torch.random' has no attribute 'randn'",
     "output_type": "error",
     "traceback": [
      "\u001b[0;31m---------------------------------------------------------------------------\u001b[0m",
      "\u001b[0;31mAttributeError\u001b[0m                            Traceback (most recent call last)",
      "\u001b[0;32m<ipython-input-14-5119d8b177c3>\u001b[0m in \u001b[0;36m<module>\u001b[0;34m\u001b[0m\n\u001b[1;32m      2\u001b[0m \u001b[0;32mimport\u001b[0m \u001b[0mnumpy\u001b[0m \u001b[0;32mas\u001b[0m \u001b[0mnp\u001b[0m\u001b[0;34m\u001b[0m\u001b[0;34m\u001b[0m\u001b[0m\n\u001b[1;32m      3\u001b[0m \u001b[0;34m\u001b[0m\u001b[0m\n\u001b[0;32m----> 4\u001b[0;31m \u001b[0mmodel\u001b[0m\u001b[0;34m.\u001b[0m\u001b[0mforward\u001b[0m\u001b[0;34m(\u001b[0m\u001b[0mtorch\u001b[0m\u001b[0;34m.\u001b[0m\u001b[0mrandom\u001b[0m\u001b[0;34m.\u001b[0m\u001b[0mrandn\u001b[0m\u001b[0;34m(\u001b[0m\u001b[0;36m10\u001b[0m\u001b[0;34m,\u001b[0m \u001b[0;36m10\u001b[0m\u001b[0;34m)\u001b[0m\u001b[0;34m)\u001b[0m\u001b[0;34m\u001b[0m\u001b[0;34m\u001b[0m\u001b[0m\n\u001b[0m",
      "\u001b[0;31mAttributeError\u001b[0m: module 'torch.random' has no attribute 'randn'"
     ]
    }
   ],
   "source": [
    "# train over batch?\n",
    "import numpy as np\n",
    "\n",
    "model.forward()"
   ]
  }
 ],
 "metadata": {
  "kernelspec": {
   "display_name": "Python 3",
   "language": "python",
   "name": "python3"
  },
  "language_info": {
   "codemirror_mode": {
    "name": "ipython",
    "version": 3
   },
   "file_extension": ".py",
   "mimetype": "text/x-python",
   "name": "python",
   "nbconvert_exporter": "python",
   "pygments_lexer": "ipython3",
   "version": "3.9.1"
  }
 },
 "nbformat": 4,
 "nbformat_minor": 5
}
