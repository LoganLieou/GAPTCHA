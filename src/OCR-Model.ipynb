{
 "cells": [
  {
   "cell_type": "code",
   "execution_count": null,
   "id": "equipped-mistake",
   "metadata": {},
   "outputs": [],
   "source": [
    "import torch\n",
    "import torch.nn as nn\n",
    "import torch.nn.functional as F\n",
    "\n",
    "def dynamic_padding(kernel):\n",
    "    return (kernel[0]//2, kernel[1]//2)\n",
    "\n",
    "# not done at all!\n",
    "class EzConvNet(nn.Module):\n",
    "    def __init__(self):\n",
    "        super(EzConvNet, self).__init__()\n",
    "        self.main = nn.Sequential(\n",
    "            # first block\n",
    "            nn.Conv2d(1, 16, kernel=(3,3), padding=dynamic_padding((3, 3))),\n",
    "            nn.ReLU(),\n",
    "            nn.MaxPool2d((2,2), stride=2),\n",
    "            \n",
    "            # second block\n",
    "            nn.Conv2d(16, 32, kernel=(3,3), padding=dynamic_padding((3, 3))),\n",
    "            nn.ReLU(),\n",
    "            nn.MaxPool2d((2,2), stride=2),\n",
    "            \n",
    "            # third block\n",
    "            nn.Conv2d(32, 64, kernel=(3,3), padding=dynamic_padding((3, 3))),\n",
    "            nn.ReLU(),\n",
    "            nn.MaxPool2d((2,2), stride=2),\n",
    "        )\n",
    "        \n",
    "    def forward(self, x):\n",
    "        return self.main(x)"
   ]
  }
 ],
 "metadata": {
  "kernelspec": {
   "display_name": "Python 3",
   "language": "python",
   "name": "python3"
  },
  "language_info": {
   "codemirror_mode": {
    "name": "ipython",
    "version": 3
   },
   "file_extension": ".py",
   "mimetype": "text/x-python",
   "name": "python",
   "nbconvert_exporter": "python",
   "pygments_lexer": "ipython3",
   "version": "3.9.1"
  }
 },
 "nbformat": 4,
 "nbformat_minor": 5
}
